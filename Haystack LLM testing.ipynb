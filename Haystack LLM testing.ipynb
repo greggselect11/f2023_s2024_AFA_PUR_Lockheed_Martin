{
 "cells": [
  {
   "cell_type": "code",
   "execution_count": 23,
   "id": "a8fa96d3",
   "metadata": {},
   "outputs": [],
   "source": [
    "import os\n",
    "from haystack import Pipeline, Document\n",
    "from haystack.document_stores.in_memory import InMemoryDocumentStore\n",
    "from haystack.components.retrievers.in_memory import InMemoryBM25Retriever\n",
    "from haystack.components.generators import OpenAIGenerator\n",
    "from haystack.components.builders.answer_builder import AnswerBuilder\n",
    "from haystack.components.builders.prompt_builder import PromptBuilder\n",
    "from haystack.components.generators import HuggingFaceTGIGenerator\n",
    "import pyodbc\n",
    "\n",
    "from langchain.utilities import SQLDatabase\n",
    "from langchain_experimental.sql import SQLDatabaseChain\n",
    "from langchain.prompts import PromptTemplate\n",
    "from langchain.prompts.chat import HumanMessagePromptTemplate\n",
    "from langchain.schema import HumanMessage, SystemMessage\n",
    "import pandas as pd\n",
    "\n",
    "from transformers import BloomForCausalLM\n",
    "from transformers import BloomForTokenClassification\n",
    "from transformers import BloomForTokenClassification\n",
    "from transformers import BloomTokenizerFast\n",
    "import torch\n",
    "from transformers import pipeline\n",
    "import tensorflow as tf\n",
    "import keras"
   ]
  },
  {
   "cell_type": "code",
   "execution_count": 19,
   "id": "74877a4f",
   "metadata": {},
   "outputs": [
    {
     "data": {
      "text/plain": [
       "<pyodbc.Cursor at 0x212c3418eb0>"
      ]
     },
     "execution_count": 19,
     "metadata": {},
     "output_type": "execute_result"
    }
   ],
   "source": [
    "import pyodbc\n",
    "#Add your own SQL Server IP address, PORT, UID, PWD and Database\n",
    "conn = pyodbc.connect(\n",
    "    'DRIVER={PostgreSQL Unicode};SERVER=localhost;PORT=5432;DATABASE=postgres;UID=postgres;PWD=mysecretpassword', autocommit=True)\n",
    "cur = conn.cursor()\n",
    "\n",
    "# Update rows with empty attributes in Vulnerabilities table\n",
    "cur.execute(\"UPDATE Vulnerabilities SET vulnerability_id = 'None' WHERE vulnerability_id = ''\")\n",
    "cur.execute(\"UPDATE Vulnerabilities SET description = 'None' WHERE description = ''\")\n",
    "cur.execute(\"UPDATE Vulnerabilities SET severity = 'None' WHERE severity = ''\")\n",
    "cur.execute(\"UPDATE Vulnerabilities SET required_action = 'None' WHERE required_action = ''\")\n",
    "\n",
    "# Update rows with empty attributes in AffectedProducts table\n",
    "cur.execute(\"UPDATE AffectedProducts SET vulnerability_id = 'None' WHERE vulnerability_id = ''\")\n",
    "cur.execute(\"UPDATE AffectedProducts SET product_name = 'None' WHERE product_name = ''\")\n",
    "cur.execute(\"UPDATE AffectedProducts SET version = 'None' WHERE version = ''\")\n",
    "\n",
    "# Update rows with empty attributes in ReferenceData table\n",
    "cur.execute(\"UPDATE ReferenceData SET vulnerability_id = 'None' WHERE vulnerability_id = ''\")\n",
    "cur.execute(\"UPDATE ReferenceData SET url = 'None' WHERE url = ''\")\n",
    "cur.execute(\"UPDATE ReferenceData SET description = 'None' WHERE description = ''\")\n",
    "\n",
    "cur.execute(\"ALTER TABLE Vulnerabilities ALTER COLUMN published_date TYPE TEXT\")\n",
    "#cur.execute(\"UPDATE Vulnerabilities SET published_date = TO_CHAR(published_date, 'YYYY-MM-DD') WHERE published_date IS NOT NULL\")\n"
   ]
  },
  {
   "cell_type": "code",
   "execution_count": 20,
   "id": "a65af024",
   "metadata": {},
   "outputs": [],
   "source": [
    "import pyodbc\n",
    "#Add your own SQL Server IP address, PORT, UID, PWD and Database\n",
    "conn = pyodbc.connect(\n",
    "    'DRIVER={PostgreSQL Unicode};SERVER=localhost;PORT=5432;DATABASE=postgres;UID=postgres;PWD=mysecretpassword', autocommit=True)\n",
    "cur = conn.cursor()\n",
    "\n",
    "cur.execute(\"SELECT * FROM Vulnerabilities\")\n",
    "rows = cur.fetchall()"
   ]
  },
  {
   "cell_type": "code",
   "execution_count": 28,
   "id": "02e64348",
   "metadata": {},
   "outputs": [
    {
     "data": {
      "application/vnd.jupyter.widget-view+json": {
       "model_id": "1cc58cf7fb1342e59b8046a4af84f6a3",
       "version_major": 2,
       "version_minor": 0
      },
      "text/plain": [
       "Ranking by BM25...:   0%|          | 0/1084 [00:00<?, ? docs/s]"
      ]
     },
     "metadata": {},
     "output_type": "display_data"
    },
    {
     "name": "stdout",
     "output_type": "stream",
     "text": [
      "['1. CVE-2023-28206 - This CVE allows an app to execute code with kernel privileges, which is a severe security risk as it can lead to complete control of the device.\\n\\n2. CVE-2023-41992 - This CVE allows for local privilege escalation on Apple iOS devices, which can lead to unauthorized access to sensitive information and control of the device.\\n\\n3. CVE-2023-41990 - This CVE allows for code execution when processing a font file, which can be exploited by attackers to run malicious code on the device.\\n\\n4. CVE-2023-41991 - This CVE allows a malicious app to bypass signature validation, potentially leading to the installation of unauthorized or malicious apps on the device.\\n\\n5. CVE-2023-37450 - This CVE allows an attacker to execute code when processing web content, which can lead to unauthorized access to the device and data theft.\\n\\n6. CVE-2023-28205 - This CVE leads to code execution when processing maliciously crafted web content, posing a risk of unauthorized access and data theft.\\n\\n7. CVE-2023-42824 - This CVE allows for local privilege escalation on Apple iOS devices, which can lead to unauthorized access and control of the device.\\n\\n8. CVE-2022-48618 - This CVE allows an attacker to bypass Pointer Authentication, which can be exploited to gain unauthorized access and control of the device.\\n\\n9. CVE-2023-22518 - This CVE can result in significant data loss when exploited by an unauthenticated attacker, posing a risk of data theft and device compromise.\\n\\n10. CVE-2022-26923 - This CVE allows for privilege escalation to SYSTEM, which can grant an attacker complete control of the device and access to sensitive information.']\n"
     ]
    }
   ],
   "source": [
    "\n",
    "\n",
    "# Set the environment variable OPENAI_API_KEY\n",
    "os.environ['OPENAI_API_KEY'] = \"Your API Key here\"\n",
    "\n",
    "# Write documents to InMemoryDocumentStore\n",
    "document_store = InMemoryDocumentStore()\n",
    "for row in rows:\n",
    "    document_store.write_documents([\n",
    "        Document(content=str(row)), \n",
    "    ])\n",
    "\n",
    "# Build a RAG pipeline\n",
    "prompt_template = \"\"\"\n",
    "Given these documents, answer the question.\n",
    "Documents:\n",
    "{% for doc in documents %}\n",
    "    {{ doc.content }}\n",
    "{% endfor %}\n",
    "Question: {{question}}\n",
    "Answer:\n",
    "\"\"\"\n",
    "\n",
    "retriever = InMemoryBM25Retriever(document_store=document_store)\n",
    "prompt_builder = PromptBuilder(template=prompt_template)\n",
    "llm = OpenAIGenerator()\n",
    "\n",
    "rag_pipeline = Pipeline()\n",
    "rag_pipeline.add_component(\"retriever\", retriever)\n",
    "rag_pipeline.add_component(\"prompt_builder\", prompt_builder)\n",
    "rag_pipeline.add_component(\"llm\", llm)\n",
    "#rag_pipeline.add_component(\"llm\", HuggingFaceTGIGenerator(model=\"mistralai/Mistral-7B-v0.1\"))\n",
    "rag_pipeline.connect(\"retriever\", \"prompt_builder.documents\")\n",
    "rag_pipeline.connect(\"prompt_builder\", \"llm\")\n",
    "\n",
    "# Ask a question\n",
    "question = \"Give me a list of 10 CVEs that would impact Apple iOS devices ranked by severity, and explain why they are ranked that way?\"\n",
    "results = rag_pipeline.run(\n",
    "    {\n",
    "        \"retriever\": {\"query\": question},\n",
    "        \"prompt_builder\": {\"question\": question},\n",
    "    }\n",
    ")\n",
    "\n",
    "print(results[\"llm\"][\"replies\"])"
   ]
  },
  {
   "cell_type": "code",
   "execution_count": null,
   "id": "ab30f5c3",
   "metadata": {},
   "outputs": [],
   "source": []
  }
 ],
 "metadata": {
  "kernelspec": {
   "display_name": "Python 3 (ipykernel)",
   "language": "python",
   "name": "python3"
  },
  "language_info": {
   "codemirror_mode": {
    "name": "ipython",
    "version": 3
   },
   "file_extension": ".py",
   "mimetype": "text/x-python",
   "name": "python",
   "nbconvert_exporter": "python",
   "pygments_lexer": "ipython3",
   "version": "3.10.9"
  }
 },
 "nbformat": 4,
 "nbformat_minor": 5
}
